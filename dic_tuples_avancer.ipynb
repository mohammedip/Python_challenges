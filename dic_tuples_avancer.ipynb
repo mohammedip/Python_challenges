{
 "cells": [
  {
   "cell_type": "markdown",
   "id": "ed27035d",
   "metadata": {},
   "source": [
    "\n",
    "<center>\n",
    "<H1><span style=\"text-align: center; font-weight: bold; color: #746bb3ff;\">Challenges avancés sur les dics et tuples</span></H1>\n",
    "</center>"
   ]
  },
  {
   "cell_type": "markdown",
   "id": "d37d1b79",
   "metadata": {},
   "source": [
    "### **Conseils pour résoudre les challenges :**\n",
    "- Testez avec des cas limites : dictionnaires vides, tuples vides, clés absentes, ou structures imbriquées complexes.\n",
    "- Utilisez `get()` ou `setdefault()` pour gérer les accès sécurisés aux dictionnaires.\n",
    "- Pour les tuples, rappelez-vous qu'ils sont immuables, donc toute transformation nécessite de créer de nouveaux tuples.\n",
    "- Assurez-vous que vos fonctions sont robustes face aux erreurs (par exemple, vérifier les types des entrées).\n"
   ]
  },
  {
   "cell_type": "markdown",
   "id": "28323bec",
   "metadata": {},
   "source": [
    "### **Challenge 1 : Fusion de dictionnaires avec mise à jour personnalisée**\n",
    "**Objectif** : Fusionner deux dictionnaires en appliquant une règle personnalisée pour gérer les clés communes.\n",
    "\n",
    "**Travail à faire** :  \n",
    "* Écrivez une fonction `fusionner_dictionnaires` qui prend deux dictionnaires et une fonction de fusion (par exemple, `lambda x, y: x + y` pour additionner les valeurs des clés communes). \n",
    " * La fonction doit retourner un nouveau dictionnaire contenant toutes les clés des deux dictionnaires, avec les valeurs des clés communes combinées via la fonction de fusion. \n",
    " * Testez avec deux dictionnaires et deux fonctions de fusion différentes (par exemple, addition et maximum).  \n",
    "* Exemple d'entrée : `dict1 = {'a': 1, 'b': 2}`, `dict2 = {'b': 3, 'c': 4}`, fonction `lambda x, y: x + y` → Résultat : `{'a': 1, 'b': 5, 'c': 4}`.\n",
    "\n",
    "**Fonctions à utiliser** :  \n",
    "- `items()` : Pour itérer sur les paires clé-valeur des dictionnaires.  \n",
    "- `setdefault()` : Pour gérer les clés absentes dans un dictionnaire.  \n",
    "- `update()` : Pour ajouter des paires clé-valeur au dictionnaire résultat. "
   ]
  },
  {
   "cell_type": "code",
   "execution_count": 20,
   "id": "d745f54a",
   "metadata": {},
   "outputs": [
    {
     "data": {
      "text/plain": [
       "{'a': 1, 'b': 5, 'c': 4}"
      ]
     },
     "execution_count": 20,
     "metadata": {},
     "output_type": "execute_result"
    }
   ],
   "source": [
    "def fusionner_dictionnaires(dict1 , dict2 , func):\n",
    "\n",
    "    for x,y in dict2.items():\n",
    "            if x in dict1:\n",
    "                dict1[x] = func(dict1[x], y)\n",
    "            else:\n",
    "                dict1.setdefault(x, y)\n",
    "\n",
    "    return dict1\n",
    "\n",
    "\n",
    "dict1 = {'a': 1, 'b': 2}\n",
    "dict2 = {'b': 3, 'c': 4}\n",
    "\n",
    "fusionner_dictionnaires(dict1 , dict2 , lambda x, y: x + y)"
   ]
  },
  {
   "cell_type": "markdown",
   "id": "bf45ff06",
   "metadata": {},
   "source": [
    "### **Challenge 2 : Filtrage de dictionnaire par valeurs**\n",
    "**Objectif** : Filtrer un dictionnaire selon un critère appliqué à ses valeurs.\n",
    "\n",
    "**Travail à faire** :  \n",
    "* Écrivez une fonction `filtrer_dictionnaire` qui prend un dictionnaire et une fonction de critère (par exemple, `lambda x: x > 10` pour garder les valeurs supérieures à 10). \n",
    "* La fonction doit retourner un nouveau dictionnaire contenant uniquement les paires clé-valeur où la valeur satisfait le critère. Testez avec deux critères différents (par exemple, \"valeur > 10\" et \"valeur est paire\").  \n",
    "* Exemple d'entrée : `{'a': 5, 'b': 12, 'c': 8, 'd': 15}` avec critère `lambda x: x > 10` → Résultat : `{'b': 12, 'd': 15}`.\n",
    "\n",
    "**Fonctions à utiliser** :  \n",
    "- `items()` : Pour itérer sur les paires clé-valeur.  \n",
    "- `filter()` : Pour appliquer le critère aux valeurs.  \n",
    "- `dict()` : Pour construire le dictionnaire résultat à partir des paires filtrées.  \n"
   ]
  },
  {
   "cell_type": "code",
   "execution_count": null,
   "id": "fb4af3c5",
   "metadata": {},
   "outputs": [
    {
     "name": "stdout",
     "output_type": "stream",
     "text": [
      "{'b': 12, 'd': 15}\n"
     ]
    }
   ],
   "source": [
    "def filter_dictionnaire(func ,dict1 ):\n",
    "    \n",
    "    new_dict = dict(filter(lambda x:func(x[1]),dict1.items()))\n",
    "    return new_dict\n",
    "\n",
    "dict1 = {'a': 5, 'b': 12, 'c': 8, 'd': 15}\n",
    "print(filter_dictionnaire( lambda x: x > 10 , dict1))"
   ]
  },
  {
   "cell_type": "markdown",
   "id": "013db6ff",
   "metadata": {},
   "source": [
    "### **Challenge 3 : Création de tuples à partir de dictionnaires**\n",
    "**Objectif** : Convertir un dictionnaire en une liste de tuples triés selon un critère.\n",
    "\n",
    "**Travail à faire** :  \n",
    "* Écrivez une fonction `dictionnaire_vers_tuples` qui prend un dictionnaire et une fonction de tri (par exemple, `lambda x: x[1]` pour trier par valeur). \n",
    "* La fonction doit retourner une liste de tuples (clé, valeur) triée selon la fonction de tri. Testez avec deux critères de tri (par exemple, tri par clé et tri par valeur).  \n",
    "* Exemple d'entrée : `{'a': 10, 'b': 5, 'c': 15}` avec tri par valeur → Résultat : `[('b', 5), ('a', 10), ('c', 15)]`.\n",
    "\n",
    "**Fonctions à utiliser** :  \n",
    "- `items()` : Pour obtenir les paires clé-valeur sous forme de tuples.  \n",
    "- `sorted()` : Pour trier les tuples selon le critère.  \n",
    "- `list()` : Pour convertir en liste si nécessaire.  \n"
   ]
  },
  {
   "cell_type": "code",
   "execution_count": 37,
   "id": "dde87ad8",
   "metadata": {},
   "outputs": [
    {
     "name": "stdout",
     "output_type": "stream",
     "text": [
      "[('b', 5), ('a', 10), ('c', 15), ('e', 57)]\n",
      "[('a', 10), ('b', 5), ('c', 15), ('e', 57)]\n"
     ]
    }
   ],
   "source": [
    "def dictionnaire_vers_tuples(dict , func):\n",
    "    new_dict = sorted(dict.items(),key=func)\n",
    "\n",
    "    return new_dict    \n",
    "\n",
    "dict1 = {'a': 10, 'e': 57, 'b': 5, 'c': 15}\n",
    "print(dictionnaire_vers_tuples(dict1 , lambda x: x[1]))\n",
    "print(dictionnaire_vers_tuples(dict1 , lambda x: x[0]))"
   ]
  },
  {
   "cell_type": "markdown",
   "id": "eebca455",
   "metadata": {},
   "source": [
    "### **Challenge 4 : Regroupement par clé dans un dictionnaire**\n",
    "**Objectif** : Regrouper des tuples dans un dictionnaire selon leur première valeur.\n",
    "\n",
    "**Travail à faire** :  \n",
    "* Écrivez une fonction `regrouper_tuples` qui prend une liste de tuples (chaque tuple ayant au moins deux éléments : une clé et une valeur) et regroupe les valeurs associées à chaque clé dans un dictionnaire. \n",
    "* La fonction doit retourner un dictionnaire où chaque clé est la première valeur du tuple, et la valeur est une liste des secondes valeurs correspondantes. Testez avec une liste de tuples contenant des doublons de clés.  \n",
    "* Exemple d'entrée : `[('a', 1), ('b', 2), ('a', 3), ('c', 4)]` → Résultat : `{'a': [1, 3], 'b': [2], 'c': [4]}`.\n",
    "\n",
    "**Fonctions à utiliser** :  \n",
    "- `setdefault()` : Pour initialiser une liste vide pour chaque clé.  \n",
    "- `append()` : Pour ajouter les valeurs à la liste associée à une clé.  \n"
   ]
  },
  {
   "cell_type": "code",
   "execution_count": 38,
   "id": "f50fe2ba",
   "metadata": {},
   "outputs": [
    {
     "name": "stdout",
     "output_type": "stream",
     "text": [
      "{'a': [1, 3], 'b': [2], 'c': [4]}\n"
     ]
    }
   ],
   "source": [
    "def regrouper_tuples(liste):\n",
    "    dict1 = {}\n",
    "    for x in liste:\n",
    "        dict1.setdefault(x[0],[])\n",
    "        dict1[x[0]].append(x[1])\n",
    "    return dict1\n",
    "\n",
    "list1=[('a', 1), ('b', 2), ('a', 3), ('c', 4)]\n",
    "print(regrouper_tuples(list1))"
   ]
  },
  {
   "cell_type": "markdown",
   "id": "006c74b5",
   "metadata": {},
   "source": [
    "### **Challenge 5 : Transformation de tuples avec fonction**\n",
    "**Objectif** : Appliquer une transformation à tous les éléments numériques d'une liste de tuples.\n",
    "\n",
    "**Travail à faire** :  \n",
    "* Écrivez une fonction `transformer_tuples` qui prend une liste de tuples contenant des nombres et une fonction de transformation (par exemple, `lambda x: x * 2`). \n",
    "* La fonction doit appliquer la transformation à chaque nombre dans les tuples et retourner une nouvelle liste de tuples.  \n",
    "* Testez avec deux fonctions de transformation différentes (par exemple, doubler et ajouter 1).  \n",
    "* Exemple d'entrée : `[(1, 2), (3, 4)]` avec `lambda x: x * 2` → Résultat : `[(2, 4), (6, 8)]`.\n",
    "\n",
    "**Fonctions à utiliser** :  \n",
    "- `map()` : Pour appliquer la transformation à chaque élément du tuple.  \n",
    "- `tuple()` : Pour convertir les résultats de `map` en tuples.  \n",
    "- `list()` : Pour construire la liste finale de tuples.  \n"
   ]
  },
  {
   "cell_type": "code",
   "execution_count": 47,
   "id": "7307a7a1",
   "metadata": {},
   "outputs": [
    {
     "name": "stdout",
     "output_type": "stream",
     "text": [
      "[(2, 4), (6, 8)]\n",
      "[(2, 3), (4, 5)]\n"
     ]
    }
   ],
   "source": [
    "def transformer_tuples(liste , func):\n",
    "    return list(map(lambda x: tuple(map(func, x)), liste))\n",
    "    \n",
    "\n",
    "list1=[(1, 2), (3, 4)]\n",
    "print(transformer_tuples(list1 , lambda x: x * 2))  \n",
    "print(transformer_tuples(list1 , lambda x: x +1))"
   ]
  },
  {
   "cell_type": "markdown",
   "id": "6c9aa7f3",
   "metadata": {},
   "source": [
    "### **Challenge 6 : Dictionnaire imbriqué à plat**\n",
    "**Objectif** : Convertir un dictionnaire imbriqué en une liste de tuples avec des clés concaténées.\n",
    "\n",
    "**Travail à faire** :  \n",
    "Écrivez une fonction `aplatir_dictionnaire` qui prend un dictionnaire potentiellement imbriqué et retourne une liste de tuples où chaque tuple contient une clé concaténée (séparée par des points) et la valeur correspondante. Testez avec un dictionnaire ayant au moins deux niveaux d'imbrication.  \n",
    "Exemple d'entrée : `{'a': 1, 'b': {'c': 2, 'd': 3}}` → Résultat : `[('a', 1), ('b.c', 2), ('b.d', 3)]`.\n",
    "\n",
    "**Fonctions à utiliser** :  \n",
    "- `items()` : Pour itérer sur les paires clé-valeur.  \n",
    "- `isinstance()` : Pour vérifier si une valeur est un dictionnaire (pour la récursivité).  \n",
    "- `append()` : Pour construire la liste de tuples.  \n"
   ]
  },
  {
   "cell_type": "code",
   "execution_count": 51,
   "id": "6d186a2c",
   "metadata": {},
   "outputs": [
    {
     "name": "stdout",
     "output_type": "stream",
     "text": [
      "[('a', 1), ('b.c', 2), ('b.d', 3)]\n"
     ]
    }
   ],
   "source": [
    "def aplatir_dictionnaire(dict1, prefixe=\"\"):\n",
    "    result = []\n",
    "    for x ,y in dict1.items():\n",
    "        nouvelle_cle = f\"{prefixe}.{x}\" if prefixe else x\n",
    "        if isinstance(y , dict):\n",
    "            sous_result = aplatir_dictionnaire(y, nouvelle_cle)\n",
    "            for item in sous_result:  \n",
    "                result.append(item)\n",
    "        else:\n",
    "            result.append((nouvelle_cle, y))  \n",
    "\n",
    "    return result\n",
    "\n",
    "dict1={'a': 1, 'b': {'c': 2, 'd': 3}}\n",
    "print(aplatir_dictionnaire(dict1))"
   ]
  }
 ],
 "metadata": {
  "kernelspec": {
   "display_name": "Python 3",
   "language": "python",
   "name": "python3"
  },
  "language_info": {
   "codemirror_mode": {
    "name": "ipython",
    "version": 3
   },
   "file_extension": ".py",
   "mimetype": "text/x-python",
   "name": "python",
   "nbconvert_exporter": "python",
   "pygments_lexer": "ipython3",
   "version": "3.13.7"
  }
 },
 "nbformat": 4,
 "nbformat_minor": 5
}
