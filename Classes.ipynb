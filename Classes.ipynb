{
 "cells": [
  {
   "cell_type": "markdown",
   "id": "08fd1dc2",
   "metadata": {},
   "source": [
    "\n",
    "<center>\n",
    "<H1><span style=\"text-align: center; font-weight: bold; color: #746bb3ff;\">Les Classes</span></H1>\n",
    "</center>"
   ]
  },
  {
   "cell_type": "markdown",
   "id": "e63c58e8",
   "metadata": {},
   "source": [
    "<H3><span style=\"font-weight: bold ; color: #19b7f1ff\">Les ressources: </span></H3> \n",
    "\n",
    "\n",
    "* [Documentation Officielle](https://docs.python.org/fr/3/tutorial/classes.html)\n",
    "* [Object-Oriented Programming (OOP)](https://realpython.com/python3-object-oriented-programming/)"
   ]
  },
  {
   "cell_type": "markdown",
   "id": "c6010b61",
   "metadata": {},
   "source": [
    "\n",
    "<H3><span style=\"font-weight: bold; color: #1a8bcdff;\">Challenge 1 : Gestion d’un compte bancaire en POO</span></H3>\n",
    "\n",
    "1. <span style=\"font-weight: bold; color: #e56922ff;\">Objectif</span> : </br>\n",
    "S’initier à la programmation orientée objet avec Python à travers la création d’une classe, la manipulation des attributs et l’appel de méthodes. Ce challenge permet de comprendre l'encapsulation des données et les actions associées à un objet.\n",
    "\n",
    "2. <span style=\"font-weight: bold; color: #e56922ff;\">Travail à faire</span>:</br>\n",
    "Crée une classe CompteBancaire avec les caractéristiques suivantes :\n",
    "1. Attributs :<br>\n",
    "* nom_proprietaire (chaîne)<br>\n",
    "* solde (float, initialisé à 0.0 par défaut)<br>\n",
    "2. Méthodes :\n",
    "*  __init__() : initialise le compte avec le nom du propriétaire et un solde optionnel.\n",
    "* deposer(montant) : ajoute le montant au solde.\n",
    "* retirer(montant) : retire le montant du solde si suffisant, sinon affiche un message d’erreur.\n",
    "* afficher_solde() : affiche le nom du propriétaire et le solde actuel."
   ]
  },
  {
   "cell_type": "code",
   "execution_count": 5,
   "id": "c1fdbf5b",
   "metadata": {},
   "outputs": [
    {
     "name": "stdout",
     "output_type": "stream",
     "text": [
      "You solde is 100.0\n",
      "You solde is 150.0\n",
      "You solde is 80.0\n",
      "solde insuffisant !!\n",
      "You solde is 80.0\n"
     ]
    }
   ],
   "source": [
    "class CompteBancaire():\n",
    "\n",
    "    def __init__(self,nom_proprietaire : str,solde=0.0):\n",
    "        self.nom_proprietaire=nom_proprietaire\n",
    "        self.solde=solde\n",
    "\n",
    "    def deposer(self,montant):\n",
    "        self.solde +=montant\n",
    "\n",
    "    def retirer(self,montant):\n",
    "        if(self.solde >= montant):\n",
    "            self.solde -= montant\n",
    "        else:\n",
    "            print(\"solde insuffisant !!\")\n",
    "\n",
    "    def afficher_solde(self):\n",
    "        print(f\"You solde is {self.solde}\")  \n",
    "\n",
    "\n",
    "compte = CompteBancaire(\"Ahmed\", 100.0)\n",
    "compte.afficher_solde()    \n",
    "\n",
    "compte.deposer(50)\n",
    "compte.afficher_solde()    \n",
    "\n",
    "compte.retirer(70)\n",
    "compte.afficher_solde()    \n",
    "\n",
    "compte.retirer(100)        \n",
    "compte.afficher_solde()         "
   ]
  },
  {
   "cell_type": "markdown",
   "id": "c72d3084",
   "metadata": {},
   "source": [
    "<H3><span style=\"font-weight: bold; color: #1a8bcdff;\">Challenge 2 : Système de gestion d’école </span></H3>\n",
    "\n",
    "1. <span style=\"font-weight: bold; color: #e56922ff;\">Objectif</span> : </br>\n",
    "Mettre en pratique les concepts fondamentaux de la POO à travers la modélisation d’un système scolaire. Ce challenge permet de manipuler les classes, l’héritage, le polymorphisme, l'encapsulation, les propriétés et les méthodes abstraites.\n",
    "\n",
    "2. <span style=\"font-weight: bold; color: #e56922ff;\">Travail à faire</span>:</br>\n",
    "* Classe abstraite Personne (à l'aide du module abc):\n",
    "1. Attributs : nom, prenom, age\n",
    "2. Méthode abstraite : afficher_infos()\n",
    "* Classe Etudiant héritée de Personne\n",
    "1. Attributs supplémentaires : matricule, notes (liste de floats)\n",
    "2. Méthodes : ajouter_note(note), moyenne(), afficher_infos() (redéfinition)\n",
    "* Classe Enseignant héritée de Personne\n",
    "1. Attributs supplémentaires : specialite, salaire\n",
    "2. Méthode afficher_infos() (redéfinition) @property et @setter pour sécuriser l’accès/modification du salaire\n",
    "* Classe Ecole\n",
    "1. Attributs : nom, liste_etudiants (liste d’objets Etudiant), liste_enseignants (liste d’objets Enseignant)\n",
    "2. Méthodes :ajouter_etudiant(etudiant), ajouter_enseignant(enseignant), afficher_tous_les_membres() (polymorphisme via afficher_infos())\n"
   ]
  },
  {
   "cell_type": "code",
   "execution_count": 6,
   "id": "f81f7266",
   "metadata": {},
   "outputs": [
    {
     "name": "stdout",
     "output_type": "stream",
     "text": [
      "Nom: Lycée des Sciences, Liste etudiants: [<__main__.Etudiant object at 0x000002121D3C8D70>, <__main__.Etudiant object at 0x000002121D47C7D0>], Liste enseignants: [<__main__.Enseignant object at 0x000002121D3C9010>, <__main__.Enseignant object at 0x000002121D47C910>]\n",
      "Nom: Lycée des Sciences, Liste etudiants: [<__main__.Etudiant object at 0x000002121D3C8D70>, <__main__.Etudiant object at 0x000002121D47C7D0>, <__main__.Etudiant object at 0x000002121D47CA50>], Liste enseignants: [<__main__.Enseignant object at 0x000002121D3C9010>, <__main__.Enseignant object at 0x000002121D47C910>]\n"
     ]
    }
   ],
   "source": [
    "from abc import ABC , abstractmethod\n",
    "\n",
    "class Personne(ABC):\n",
    "    def __init__(self,nom,prenom,age):\n",
    "        self.nom=nom\n",
    "        self.prenom=prenom\n",
    "        self.age=age\n",
    "    \n",
    "    @abstractmethod\n",
    "    def afficher_info(self):\n",
    "        pass\n",
    "\n",
    "class Etudiant(Personne):\n",
    "        def __init__(self, nom, prenom, age,matricule,notes:list[float]):\n",
    "             super().__init__(nom, prenom, age)\n",
    "             self.matricule = matricule\n",
    "             self.notes = notes\n",
    "\n",
    "        def ajouter_note(self,note):\n",
    "            self.notes.append(note)\n",
    "\n",
    "        def moyenne(self):\n",
    "            total=0\n",
    "            for note in self.notes:\n",
    "                  total+=note\n",
    "            moyen = total/len(self.notes)\n",
    "\n",
    "            return moyen\n",
    "\n",
    "        def afficher_info(self):\n",
    "             print(f\"Nom: {self.nom}, Prénom: {self.prenom}, Âge: {self.age}, Matricule: {self.matricule}, Notes: {self.notes}\")\n",
    "\n",
    "                           \n",
    "class Enseignant(Personne):\n",
    "        def __init__(self, nom, prenom, age,specialite,salaire):\n",
    "             super().__init__(nom, prenom, age)\n",
    "             self.specialite = specialite\n",
    "             self._salaire = salaire\n",
    "\n",
    "        def afficher_info(self):\n",
    "             print(f\"Nom: {self.nom}, Prénom: {self.prenom}, Âge: {self.age}, Specialite: {self.specialite}, Salaire: {self.salaire}\")     \n",
    "\n",
    "        @property\n",
    "        def salaire(self):\n",
    "             return self._salaire\n",
    "        \n",
    "        @salaire.setter\n",
    "        def salaire(self,salaire):\n",
    "             self._salaire=salaire\n",
    "\n",
    "class Ecole:\n",
    "     def __init__(self,nom, liste_etudiants:list[Etudiant], liste_enseignants:list[Enseignant] ):\n",
    "          self.nom = nom\n",
    "          self.liste_etudiants = liste_etudiants\n",
    "          self.liste_enseignants = liste_enseignants\n",
    "\n",
    "     def ajouter_etudiant(self,etudiant):\n",
    "          self.liste_etudiants.append(etudiant)\n",
    "\n",
    "\n",
    "     def ajouter_enseignant(self,enseignant):\n",
    "          self.liste_enseignants.append(enseignant)  \n",
    "\n",
    "     def afficher_tous_les_membres(self):\n",
    "          print(f\"Nom: {self.nom}, Liste etudiants: {self.liste_etudiants}, Liste enseignants: {self.liste_enseignants}\")     \n",
    "\n",
    "e1 = Etudiant(\"Ali\", \"Ahmed\", 20, \"E123\", [15, 18, 12])\n",
    "e2 = Etudiant(\"Sara\", \"Khalid\", 22, \"E124\", [14, 17])\n",
    "ens1 = Enseignant(\"Dr.\", \"Youssef\", 45, \"Math\", 5000)\n",
    "ens2 = Enseignant(\"Mme\", \"Fatima\", 38, \"Physics\", 4500)\n",
    "\n",
    "mon_ecole = Ecole(\"Lycée des Sciences\", [e1, e2], [ens1, ens2])\n",
    "mon_ecole.afficher_tous_les_membres()\n",
    "\n",
    "new_student = Etudiant(\"Hassan\", \"Mohamed\", 21, \"E125\", [])\n",
    "mon_ecole.ajouter_etudiant(new_student)\n",
    "mon_ecole.afficher_tous_les_membres()\n"
   ]
  },
  {
   "cell_type": "markdown",
   "id": "a1cbceac",
   "metadata": {},
   "source": []
  }
 ],
 "metadata": {
  "kernelspec": {
   "display_name": "Python 3",
   "language": "python",
   "name": "python3"
  },
  "language_info": {
   "codemirror_mode": {
    "name": "ipython",
    "version": 3
   },
   "file_extension": ".py",
   "mimetype": "text/x-python",
   "name": "python",
   "nbconvert_exporter": "python",
   "pygments_lexer": "ipython3",
   "version": "3.13.7"
  }
 },
 "nbformat": 4,
 "nbformat_minor": 5
}
