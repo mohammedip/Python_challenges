{
 "cells": [
  {
   "cell_type": "markdown",
   "id": "914e84e2",
   "metadata": {},
   "source": [
    "<center>\n",
    "<H1><span style=\"text-align: center; font-weight: bold; color: #746bb3ff;\">Les Dictionnaires & Tuples</span></H1>\n",
    "</center>"
   ]
  },
  {
   "cell_type": "markdown",
   "id": "4904b5d8",
   "metadata": {},
   "source": [
    "<H3><span style=\"font-weight: bold ; color: #19b7f1ff\">Les ressources: </span></H3> \n",
    "\n",
    "**Documentation Officielle** : \n",
    "* [Dictionnaires](https://docs.python.org/fr/3/tutorial/datastructures.html#dictionaries) \n",
    "* [Tuples](https://docs.python.org/fr/3/tutorial/datastructures.html#tuples-and-sequences)"
   ]
  },
  {
   "cell_type": "markdown",
   "id": "6ba65839",
   "metadata": {},
   "source": [
    "<H3><span style=\"font-weight: bold; color: #1a8bcdff;\">Challenge 1 : Manipulation des dictionnaires Python</span></H3>\n",
    "\n",
    "1. <span style=\"font-weight: bold; color: #e56922ff;\">Objectif</span> : </br>\n",
    "Apprendre à manipuler des dictionnaires en Python à travers plusieurs opérations clés\n",
    "\n",
    "2. <span style=\"font-weight: bold; color: #e56922ff;\">Travail à faire</span>:</br>\n",
    "Considérons le dictionnaire suivant :\n",
    "\n",
    "<code>\n",
    "First_dict = { \"Appareil\": \"Laptop\", \"Marque\": \"IBM\", \"Carte mère\": \"MSI Z490\", \"Carte Graphique\":\"GeForce RTX 3070\", \"RAM\": \"16G\", \"Processeur\": \"Intel core i7-G11\", \"SSD\": \"1 To\" }    </code>\n",
    "\n",
    "- *Parti 1:* Écris un programme Python qui effectue les opérations suivantes :\n",
    "\n",
    "1. Corriger la valeur associée à la clé \"RAM\" pour qu’elle devienne \"32G\".\n",
    "\n",
    "2. Afficher successivement :\n",
    "\n",
    "3. La liste des clés du dictionnaire\n",
    "\n",
    "4. La liste des valeurs\n",
    "\n",
    "5. La liste des paires clé-valeur\n",
    "\n",
    "6. Inverser les paires \"Processeur\" : \"Intel core i7-G11\" et \"Carte Graphique\" : \"GeForce RTX 3070\"\n",
    "\n",
    "7. Ajouter la paire clé-valeur suivante : \"Système d’exploitation\": \"Windows 10\"\n",
    "\n",
    "- *Parti 2:* On considère le dictionnaire suivant dont les clés sont les noms des élèves et les valeurs des clés sont les moyennes générales obtenues en passant l’examen final.\n",
    "\n",
    "<code>notes_eleves = { \"Amine\": 15.5, \"Yassine\": 19.0, \"Reda\": 14.2, \"Malak\": 8.7, \"Manal\": 20.0, \"Ahmed\": 7.5,\"Saad\": 11.3, \"Hannae\": 9.8 }</code>\n",
    "\n",
    "Écrire un programme Python qui partitionne ce dictionnaire en deux sous dictionnaires :\n",
    "\n",
    "* etudiantAdmis dont les clés sont les étudiants admis et les valeurs des clés sont les moyennes obtenues (moyenne supérieures ou égales à 10 ).\n",
    "\n",
    "* etudiantNonAdmis dont les clés sont les étudiants non admis et les valeurs des clés sont les moyennes obtenues (moyenne inférieur ou égale à 10). "
   ]
  },
  {
   "cell_type": "code",
   "execution_count": 18,
   "id": "0fc954a1",
   "metadata": {},
   "outputs": [
    {
     "name": "stdout",
     "output_type": "stream",
     "text": [
      "dict_keys(['Appareil', 'Marque', 'Carte mère', 'Carte Graphique', 'RAM', 'Processeur', 'SSD'])\n",
      "dict_values(['Laptop', 'IBM', 'MSI Z490', 'GeForce RTX 3070', '32G', 'Intel core i7-G11', '1 To'])\n",
      "[['Appareil', 'Laptop'], ['Marque', 'IBM'], ['Carte mère', 'MSI Z490'], ['Carte Graphique', 'GeForce RTX 3070'], ['RAM', '32G'], ['Processeur', 'Intel core i7-G11'], ['SSD', '1 To']]\n",
      "{'Appareil': 'Laptop', 'Marque': 'IBM', 'Carte mère': 'MSI Z490', 'RAM': '32G', 'SSD': '1 To', 'GeForce RTX 3070': 'Carte Graphique', 'Intel core i7-G11': 'Processeur'}\n",
      "{'Amine': 15.5, 'Yassine': 19.0, 'Reda': 14.2, 'Manal': 20.0, 'Saad': 11.3} {'Malak': 8.7, 'Ahmed': 7.5, 'Hannae': 9.8}\n"
     ]
    }
   ],
   "source": [
    "First_dict = { \"Appareil\": \"Laptop\", \"Marque\": \"IBM\", \"Carte mère\": \"MSI Z490\", \"Carte Graphique\":\"GeForce RTX 3070\", \"RAM\": \"16G\", \"Processeur\": \"Intel core i7-G11\", \"SSD\": \"1 To\" }\n",
    "First_dict[\"RAM\"]=\"32G\"\n",
    "\n",
    "print(First_dict.keys())\n",
    "print(First_dict.values())\n",
    "\n",
    "paires = []\n",
    "kays = list(First_dict)\n",
    "for i in kays:\n",
    "    paires.append([i,First_dict[i]])\n",
    "print(paires)\n",
    "\n",
    "def invers_paire(dic , kays ,value):\n",
    "    del dic[kays]\n",
    "    dic[value]=kays\n",
    "\n",
    "invers_paire(First_dict,\"Carte Graphique\",\"GeForce RTX 3070\")   \n",
    "invers_paire(First_dict,\"Processeur\",\"Intel core i7-G11\")   \n",
    "print(First_dict)\n",
    "\n",
    "First_dict[\"Système d'exploitation\"]=\"Windows 10\"\n",
    "\n",
    "notes_eleves = { \"Amine\": 15.5, \"Yassine\": 19.0, \"Reda\": 14.2, \"Malak\": 8.7, \"Manal\": 20.0, \"Ahmed\": 7.5,\"Saad\": 11.3, \"Hannae\": 9.8 }\n",
    "\n",
    "etudient_admis={}\n",
    "etudient_non_admis={}\n",
    "for i in notes_eleves:\n",
    "    if notes_eleves[i] <10:\n",
    "        etudient_non_admis[i] = notes_eleves[i]\n",
    "    else:\n",
    "        etudient_admis[i] = notes_eleves[i]\n",
    "\n",
    "print(etudient_admis , etudient_non_admis)\n"
   ]
  },
  {
   "cell_type": "markdown",
   "id": "7ab8effa",
   "metadata": {},
   "source": [
    "<H3><span style=\"font-weight: bold; color: #1a8bcdff;\">Challenge 2 : Mise à Jour de Dictionnaires</span></H3>\n",
    "\n",
    "1. <span style=\"font-weight: bold; color: #e56922ff;\">Objectif</span> : </br>\n",
    "Fusionner plusieurs dictionnaires en un seul.\n",
    "\n",
    "2. <span style=\"font-weight: bold; color: #e56922ff;\">Travail à faire</span>:</br>\n",
    "* Utilisez update() pour fusionner trois dictionnaires différents.\n",
    "* Affichez le dictionnaire final avec toutes les clés et valeurs combinées.\n"
   ]
  },
  {
   "cell_type": "code",
   "execution_count": 19,
   "id": "85cd8892",
   "metadata": {},
   "outputs": [
    {
     "name": "stdout",
     "output_type": "stream",
     "text": [
      "{'Appareil': 'Laptop', 'Marque': 'IBM', 'Carte mère': 'MSI Z490', 'RAM': '32G', 'Malak': 8.7, 'Ahmed': 7.5, 'Hannae': 9.8, 'Amine': 15.5, 'Yassine': 19.0, 'Reda': 14.2, 'Manal': 20.0, 'Saad': 11.3}\n"
     ]
    }
   ],
   "source": [
    "First_dict={'Appareil': 'Laptop', 'Marque': 'IBM', 'Carte mère': 'MSI Z490', 'RAM': '32G'}\n",
    "etudient_admis={'Amine': 15.5, 'Yassine': 19.0, 'Reda': 14.2, 'Manal': 20.0, 'Saad': 11.3}\n",
    "etudient_non_admis={'Malak': 8.7, 'Ahmed': 7.5, 'Hannae': 9.8}\n",
    "\n",
    "First_dict.update(etudient_non_admis)\n",
    "First_dict.update(etudient_admis)\n",
    "\n",
    "print(First_dict)\n"
   ]
  },
  {
   "cell_type": "markdown",
   "id": "c5dd1c26",
   "metadata": {},
   "source": [
    "<H3><span style=\"font-weight: bold; color: #1a8bcdff;\">Challenge 3 : Conversion de Deux Listes en Dictionnaire</span></H3>\n",
    "\n",
    "1. <span style=\"font-weight: bold; color: #e56922ff;\">Objectif</span> : </br>\n",
    "Créer un dictionnaire à partir de deux listes (une pour les clés, une pour les valeurs).\n",
    "\n",
    "2. <span style=\"font-weight: bold; color: #e56922ff;\">Travail à faire</span>:</br>\n",
    "* Utilisez zip() pour combiner les deux listes.\n",
    "* Convertissez le résultat en dictionnaire.\n",
    "* Affichez le dictionnaire créé.\n",
    "\n"
   ]
  },
  {
   "cell_type": "code",
   "execution_count": 25,
   "id": "2663dae7",
   "metadata": {},
   "outputs": [
    {
     "name": "stdout",
     "output_type": "stream",
     "text": [
      "{'Appareil': 'Carte mère', 'Laptop': 'MSI Z490', 'Marque': 'Carte Graphique', 'IBM': 'GeForce RTX 3070'}\n"
     ]
    }
   ],
   "source": [
    "list1=['Appareil', 'Laptop','Marque', 'IBM']\n",
    "list2=['Carte mère', 'MSI Z490','Carte Graphique', 'GeForce RTX 3070']\n",
    "\n",
    "list_global=zip(list1,list2)\n",
    "new_dict={}\n",
    "for i in list(list_global):\n",
    "    new_dict[i[0]]=i[1]\n",
    "\n",
    "print(new_dict)"
   ]
  },
  {
   "cell_type": "markdown",
   "id": "b64cf938",
   "metadata": {},
   "source": [
    "\n",
    "<H3><span style=\"font-weight: bold; color: #1a8bcdff;\">Challenge 4 : Tri d'un Dictionnaire</span></H3>\n",
    "\n",
    "1. <span style=\"font-weight: bold; color: #e56922ff;\">Objectif</span> : </br>\n",
    "Trier un dictionnaire selon ses valeurs.\n",
    "\n",
    "2. <span style=\"font-weight: bold; color: #e56922ff;\">Travail à faire</span>:</br>\n",
    "* Utilisez items() pour obtenir les paires clé-valeur.\n",
    "* Triez ces paires par valeur.\n",
    "* Créez un nouveau dictionnaire à partir des paires triées.\n",
    "\n"
   ]
  },
  {
   "cell_type": "code",
   "execution_count": 65,
   "id": "09480797",
   "metadata": {},
   "outputs": [
    {
     "name": "stdout",
     "output_type": "stream",
     "text": [
      "{'Manal': 20.0, 'Yassine': 19.0, 'Amine': 15.5, 'Reda': 14.2, 'Saad': 11.3}\n"
     ]
    }
   ],
   "source": [
    "etudient_admis={'Amine': 15.5, 'Yassine': 19.0, 'Reda': 14.2, 'Manal': 20.0, 'Saad': 11.3}\n",
    "\n",
    "etudient_admis=etudient_admis.items()\n",
    "etudient_admis=list(etudient_admis)\n",
    "\n",
    "for i in range(0,len(etudient_admis)-1):\n",
    "    for j in range(i+1,len(etudient_admis)):\n",
    "        if (etudient_admis[i][1] < etudient_admis[j][1]):\n",
    "            etudient_admis[i] , etudient_admis[j] = etudient_admis[j] ,  etudient_admis[i] \n",
    "   \n",
    "new_dict={}\n",
    "for i in range(0,len(etudient_admis)):\n",
    "    new_dict[etudient_admis[i][0]]=etudient_admis[i][1]\n",
    "\n",
    "print(new_dict)    \n"
   ]
  },
  {
   "cell_type": "code",
   "execution_count": null,
   "id": "beb94f65",
   "metadata": {},
   "outputs": [],
   "source": []
  },
  {
   "cell_type": "markdown",
   "id": "2c429ffc",
   "metadata": {},
   "source": [
    "\n",
    "<H3><span style=\"font-weight: bold; color: #1a8bcdff;\">Challenge 5 : Manipulation de tuples </span></H3>\n",
    "\n",
    "1. <span style=\"font-weight: bold; color: #e56922ff;\">Objectif</span> : </br>\n",
    "Comprendre la structure des tuples, leur immutabilité, et leur utilisation pour stocker des données groupées et ordonnées.\n",
    "\n",
    "2. <span style=\"font-weight: bold; color: #e56922ff;\">Travail à faire</span>:</br>\n",
    "* Crée un tuple nommé etudiant_info contenant les informations suivantes dans cet ordre : Prénom : \"Yasmine\", Âge : 22, Filière : \"Informatique\", Moyenne générale : 17.4\n",
    "* Affiche les informations stockées dans le tuple, une par ligne, avec un texte explicite. (ex: “Prénom : Yasmine”)\n",
    "* Tente de modifier la filière dans le tuple. Que se passe-t-il ? Explique pourquoi.\n",
    "* Utilise l'opérateur de slicing pour afficher uniquement le prénom et l'âge.\n",
    "* Crée un nouveau tuple en combinant etudiant_info avec un second tuple contenant la mention \"Très Bien\" et l’année d’obtention du diplôme (2024), puis affiche le tuple final."
   ]
  },
  {
   "cell_type": "code",
   "execution_count": null,
   "id": "1e59354d",
   "metadata": {},
   "outputs": [
    {
     "name": "stdout",
     "output_type": "stream",
     "text": [
      "Prénom : Yasmine\n",
      "Âge : 22\n",
      "Filière : Informatique\n",
      "Moyenne générale : 17.4\n",
      "--------------------\n",
      "Prénom : Yasmine\n",
      "Âge : 22\n",
      "(('Prénom', 'Yasmine'), ('Âge', 22), ('Filière', 'Informatique'), ('Moyenne générale', 17.4), ('mention', 'Très Bien'), (\"année d'obtention du diplôme\", 2024))\n"
     ]
    }
   ],
   "source": [
    "etudiant_info = ((\"Prénom\" , \"Yasmine\"), (\"Âge\" , 22), (\"Filière\" , \"Informatique\"), (\"Moyenne générale\" , 17.4))\n",
    "\n",
    "def presentation(tuple):\n",
    "    for i in range(len(tuple)):\n",
    "        print(f\"{tuple[i][0]} : {tuple[i][1]}\")\n",
    "    \n",
    "presentation(etudiant_info)\n",
    "\n",
    "# etudiant_info[3]=\"hello\"   \n",
    "# 'tuple' object does not support item assignment\n",
    "\n",
    "print(\"--------------------\")\n",
    "new_etudiant_info=etudiant_info[:2]\n",
    "presentation(new_etudiant_info)\n",
    "\n",
    "etudiant_info2=((\"mention\" ,\"Très Bien\") , (\"année d'obtention du diplôme\" ,2024))\n",
    "\n",
    "final_etudiant_info = etudiant_info + etudiant_info2\n",
    "\n",
    "print(final_etudiant_info)\n",
    "\n",
    "\n",
    "\n",
    "\n"
   ]
  },
  {
   "cell_type": "markdown",
   "id": "bdb88a19",
   "metadata": {},
   "source": []
  }
 ],
 "metadata": {
  "kernelspec": {
   "display_name": "Python 3",
   "language": "python",
   "name": "python3"
  },
  "language_info": {
   "codemirror_mode": {
    "name": "ipython",
    "version": 3
   },
   "file_extension": ".py",
   "mimetype": "text/x-python",
   "name": "python",
   "nbconvert_exporter": "python",
   "pygments_lexer": "ipython3",
   "version": "3.13.7"
  }
 },
 "nbformat": 4,
 "nbformat_minor": 5
}
