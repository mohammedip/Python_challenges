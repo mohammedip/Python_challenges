{
 "cells": [
  {
   "cell_type": "markdown",
   "id": "784cad32",
   "metadata": {},
   "source": [
    "\n",
    "<center>\n",
    "<H1><span style=\"text-align: center; font-weight: bold; color: #746bb3ff;\">Gestion de Fichiers</span></H1>\n",
    "</center>"
   ]
  },
  {
   "cell_type": "markdown",
   "id": "00451f59",
   "metadata": {},
   "source": [
    "<H3><span style=\"font-weight: bold ; color: #19b7f1ff\">Les ressources: </span></H3> \n",
    "\n",
    "* [Documentation Officielle de Python](https://docs.python.org/fr/3/tutorial/inputoutput.html#reading-and-writing-files)\n",
    "* [Reading and Writing Files in Python](https://realpython.com/read-write-files-python/)"
   ]
  },
  {
   "cell_type": "markdown",
   "id": "3d2ea4b9",
   "metadata": {},
   "source": [
    "<H3><span style=\"font-weight: bold; color: #1a8bcdff;\">Challenge 1 : Extraction et Traitement de Fichiers</span></H3>\n",
    "\n",
    "1. <span style=\"font-weight: bold; color: #e56922ff;\">Objectif</span> : </br>\n",
    "Lire plusieurs fichiers texte et combiner leur contenu.\n",
    "\n",
    "2. <span style=\"font-weight: bold; color: #e56922ff;\">Travail à faire</span>:</br>\n",
    "* Utilisez os.listdir() pour lister tous les fichiers texte dans un répertoire.\n",
    "* Utilisez open() pour lire chaque fichier et extraire son contenu.\n",
    "* Combinez le contenu de tous les fichiers en un seul texte."
   ]
  },
  {
   "cell_type": "code",
   "execution_count": 38,
   "id": "21b6f2cb",
   "metadata": {},
   "outputs": [
    {
     "name": "stdout",
     "output_type": "stream",
     "text": [
      "['Hello_everyone.txt', 'new_text.txt']\n",
      "Hello everyone 👋\n",
      "Today we’re going to see how to add audio files to a website.\n",
      "If you find this useful, don’t forget to hit the subscribe button.\n",
      "Alright, let’s start!\n",
      "\n",
      "So here, I have an MP3 file, and I want to add it to my website.\n",
      "To do that, we use the <audio> tag. In the src attribute, we put the path of our audio file.\n",
      "\n",
      "👉 If you don’t know how the src attribute works, or if you want more explanation about it, you can go check my video about the <img> tag on this channel—I explained it there in detail.\n",
      "\n",
      "Now, we just write the name of the audio file.\n",
      "But pay attention here: there are different audio file types like WAV, OGG, MP3, and so on.\n",
      "The problem is that not all browsers support all formats.\n",
      "\n",
      "What does that mean?\n",
      "It means, for example, if you only add an OGG file, and the user’s browser doesn’t support OGG, then the audio won’t work.\n",
      "\n",
      "So how do we solve this problem?\n",
      "We need to provide multiple formats of the same audio file to make sure at least one will work.\n",
      "\n",
      "But can we do that with just the src attribute? ❌\n",
      "No, because src can only take one path.\n",
      "\n",
      "So what’s the solution?\n",
      "We use the <source> tag.\n",
      "\n",
      "And this explains why <audio> has both an opening and a closing tag—unlike <img>.\n",
      "Inside <audio>, we can write as many <source> tags as we want, each with its own src and type.\n",
      "\n",
      "For example:\n",
      "\n",
      "MP3 → type=\"audio/mpeg\"\n",
      "\n",
      "WAV → type=\"audio/wav\"\n",
      "\n",
      "OGG → type=\"audio/ogg\"\n",
      "\n",
      "This way, the browser will just use the first one it supports and ignore the rest.\n",
      "\n",
      "Now, after we do all this and refresh the page… you’ll notice that the audio still doesn’t show up.\n",
      "Why does that happen? 🤔\n",
      "Because we need to add the controls attribute inside the <audio> tag.\n",
      "\n",
      "Once we do that, the audio player appears on the page.\n",
      "The controls are the buttons we use to play or pause the audio, change the volume, or move to another part of the track.\n",
      "\n",
      "There are also some other useful attributes:\n",
      "\n",
      "loop → makes the audio play endlessly.\n",
      "\n",
      "muted → starts the audio with no sound.\n",
      "\n",
      "autoplay → tries to play the audio automatically.\n",
      "\n",
      "But autoplay is a bit tricky: it’s no longer supported by many browsers, like Google Chrome. Why?\n",
      "Well, imagine opening a website and suddenly some random music or video starts playing—that’s very annoying for most people.\n",
      "\n",
      "Finally, one last thing: if none of the audio sources work, you can add a message inside the <audio> tag.\n",
      "Something like: “Your browser doesn’t support this type of audio file.”\n",
      "Don’t worry—if the audio works, that message won’t be displayed.\n",
      "\n",
      "And that’s all for today!\n",
      "In the next video, we’ll learn how to add videos to a website.\n",
      "Don’t forget to subscribe, leave a nice comment, and see you in the next one\n",
      "1. The sun rose over the quiet town, casting golden light on the rooftops.\n",
      "2. Birds chirped softly, welcoming the new day with gentle melodies.\n",
      "3. The morning air was crisp, filled with the scent of blooming flowers.\n",
      "4. Children ran across the park, laughing and chasing each other.\n",
      "5. A lone cat stretched lazily on the windowsill, enjoying the warmth.\n",
      "6. The bakery’s aroma of fresh bread drifted through the streets.\n",
      "7. People greeted each other with smiles, sharing small moments of joy.\n",
      "8. The old oak tree stood tall, its leaves rustling in the soft breeze.\n",
      "9. A painter captured the scene, dabbing colors onto a blank canvas.\n",
      "10. Dogs barked playfully as their owners strolled along the sidewalks.\n",
      "11. The clock tower chimed, marking the start of a new hour.\n",
      "12. A street musician played a violin, filling the air with sweet tunes.\n",
      "13. The fountain in the square sparkled under the morning sunlight.\n",
      "14. A gentle river flowed quietly, reflecting the sky’s pale blue.\n",
      "15. Shopkeepers arranged their displays, welcoming early customers.\n",
      "16. A cyclist rode past, the wind whistling softly around them.\n",
      "17. The scent of coffee mingled with fresh pastries in the café.\n",
      "18. Leaves danced across the streets, carried by a playful gust.\n",
      "19. Elderly friends chatted on a\n",
      "\n"
     ]
    }
   ],
   "source": [
    "import os\n",
    "\n",
    "path='C:/Users/reida/OneDrive/Desktop/'\n",
    "files =os.listdir(path)\n",
    "file_list=[]\n",
    "for i in files:\n",
    "    if \"txt\" in i and i not in file_list:\n",
    "        file_list.append(i)\n",
    "\n",
    "print(file_list)   \n",
    "\n",
    "for i in file_list:\n",
    "    f=open(path+i,encoding='utf-8')\n",
    "    print(f.read())\n",
    "\n",
    "\n"
   ]
  },
  {
   "cell_type": "markdown",
   "id": "5240bc4e",
   "metadata": {},
   "source": [
    "<H3><span style=\"font-weight: bold; color: #1a8bcdff;\">Challenge 2 : Recherche de Fichiers</span></H3>\n",
    "\n",
    "1. <span style=\"font-weight: bold; color: #e56922ff;\">Objectif</span> : </br>\n",
    "Vérifier l'existence de fichiers spécifiques et les traiter.\n",
    "\n",
    "2. <span style=\"font-weight: bold; color: #e56922ff;\">Travail à faire</span>:</br>\n",
    "* Utilisez os.path.exists() pour vérifier si des fichiers de configuration (config.yaml) existent dans un répertoire donné.\n",
    "* Si le fichier existe, ouvrez-le et affichez son contenu."
   ]
  },
  {
   "cell_type": "code",
   "execution_count": 17,
   "id": "fa5797e7",
   "metadata": {},
   "outputs": [
    {
     "name": "stdout",
     "output_type": "stream",
     "text": [
      "False\n"
     ]
    }
   ],
   "source": [
    "print(os.path.exists('C:/Users/Youcode/OneDrive/config.yaml'))\n",
    "# it return false \n"
   ]
  },
  {
   "cell_type": "markdown",
   "id": "c9850348",
   "metadata": {},
   "source": [
    "<H3><span style=\"font-weight: bold; color: #1a8bcdff;\">Challenge 4 : Création de Répertoires</span></H3>\n",
    "\n",
    "1. <span style=\"font-weight: bold; color: #e56922ff;\">Objectif</span> : </br>\n",
    "Créer une structure de répertoires à partir d'une liste de noms.\n",
    "\n",
    "2. <span style=\"font-weight: bold; color: #e56922ff;\">Travail à faire</span>:</br>\n",
    "* Utilisez os.mkdir() pour créer un répertoire principal.\n",
    "* Créez plusieurs sous-répertoires à l'intérieur du répertoire principal en utilisant une liste de noms."
   ]
  },
  {
   "cell_type": "code",
   "execution_count": 25,
   "id": "07f28968",
   "metadata": {},
   "outputs": [],
   "source": [
    "os.mkdir('C:/Users/reida/OneDrive/Desktop/new_dir_test')\n",
    "\n",
    "dir_list=['hakuna','matata']\n",
    "for i in dir_list:\n",
    "    os.mkdir('C:/Users/reida/OneDrive/Desktop/new_dir_test/'+i)"
   ]
  },
  {
   "cell_type": "markdown",
   "id": "70d5c0f1",
   "metadata": {},
   "source": [
    "<H3><span style=\"font-weight: bold; color: #1a8bcdff;\">Challenge 5 : Copie Sélective de Fichiers</span></H3>\n",
    "\n",
    "1. <span style=\"font-weight: bold; color: #e56922ff;\">Objectif</span> : </br>\n",
    "Copier des fichiers spécifiques d'un répertoire à un autre.\n",
    "\n",
    "2. <span style=\"font-weight: bold; color: #e56922ff;\">Travail à faire</span>:</br>\n",
    "* Utilisez os.listdir() pour lister tous les fichiers dans un répertoire source.\n",
    "* Utilisez shutil.copy() pour copier uniquement les fichiers avec une extension spécifique (par exemple, .csv) vers un répertoire de destination."
   ]
  },
  {
   "cell_type": "code",
   "execution_count": 4,
   "id": "d723fec4",
   "metadata": {},
   "outputs": [
    {
     "name": "stdout",
     "output_type": "stream",
     "text": [
      "['desktop.ini', 'Discord.lnk', 'Hello_everyone.txt', 'Microsoft Edge.lnk', 'new_dir_test', 'new_text.txt', 'Python_chanllenges', 'Python_Exercices', 'WarmUp']\n"
     ]
    }
   ],
   "source": [
    "import shutil\n",
    "import os\n",
    "\n",
    "source = 'C:/Users/reida/OneDrive/Desktop/'\n",
    "\n",
    "print(os.listdir(source))\n",
    "\n",
    "destination = 'C:/Users/reida/OneDrive/Desktop/Python_Exercices'\n",
    "\n",
    "for file in os.listdir(source):\n",
    "    if \"txt\" in file:\n",
    "        file_source=source+file\n",
    "        shutil.copy(file_source, destination)\n"
   ]
  },
  {
   "cell_type": "markdown",
   "id": "860b9d43",
   "metadata": {},
   "source": [
    "<H3><span style=\"font-weight: bold; color: #1a8bcdff;\">Challenge 6 : Écriture de Fichiers</span></H3>\n",
    "\n",
    "1. <span style=\"font-weight: bold; color: #e56922ff;\">Objectif</span> : </br>\n",
    "Écrire du contenu dans un fichier texte.\n",
    "\n",
    "2. <span style=\"font-weight: bold; color: #e56922ff;\">Travail à faire</span>:</br>\n",
    "* Utilisez open() en mode écriture pour créer un nouveau fichier texte.\n",
    "* Écrivez des lignes de texte dans le fichier en utilisant une boucle.\n",
    "* Fermez le fichier et vérifiez que les données ont été correctement enregistrées."
   ]
  },
  {
   "cell_type": "code",
   "execution_count": 5,
   "id": "bacbe689",
   "metadata": {},
   "outputs": [],
   "source": [
    "f = open(\"test_file.txt\", \"w\")\n",
    "\n",
    "f.write(\"this a file where i test file manipulation using python\")\n",
    "\n",
    "f.close()"
   ]
  },
  {
   "cell_type": "markdown",
   "id": "27cd8680",
   "metadata": {},
   "source": []
  }
 ],
 "metadata": {
  "kernelspec": {
   "display_name": "Python 3",
   "language": "python",
   "name": "python3"
  },
  "language_info": {
   "codemirror_mode": {
    "name": "ipython",
    "version": 3
   },
   "file_extension": ".py",
   "mimetype": "text/x-python",
   "name": "python",
   "nbconvert_exporter": "python",
   "pygments_lexer": "ipython3",
   "version": "3.13.7"
  }
 },
 "nbformat": 4,
 "nbformat_minor": 5
}
