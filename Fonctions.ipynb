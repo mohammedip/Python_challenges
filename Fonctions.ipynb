{
 "cells": [
  {
   "cell_type": "markdown",
   "id": "21dfa672",
   "metadata": {},
   "source": [
    "<center>\n",
    "<H1><span style=\"text-align: center; font-weight: bold; color: #746bb3ff;\">Les Fonctions</span></H1>\n",
    "</center>"
   ]
  },
  {
   "cell_type": "markdown",
   "id": "4280dbf3",
   "metadata": {},
   "source": [
    "<H3><span style=\"font-weight: bold ; color: #19b7f1ff\">Les ressources: </span></H3> \n",
    "\n",
    "\n",
    "* [Python Functions](https://realpython.com/defining-your-own-python-function/#abstraction)\n",
    "* [Documentation Officielle de Python](https://docs.python.org/fr/3/tutorial/controlflow.html#defining-functions)"
   ]
  },
  {
   "cell_type": "markdown",
   "id": "e83d584f",
   "metadata": {},
   "source": [
    "<H3><span style=\"font-weight: bold; color: #1a8bcdff;\">Challenge 1 : Présentation personnalisé</span></H3>\n",
    "\n",
    "1. <span style=\"font-weight: bold; color: #e56922ff;\">Objectif</span> : </br>\n",
    "Réutiliser un programme existant (Challenge 2) en le structurant dans une fonction nommée horaire_sup.\n",
    "\n",
    "2. <span style=\"font-weight: bold; color: #e56922ff;\">Travail à faire</span>:</br>\n",
    "Réécris le programme du Challenge 2 dans une fonction appelée horaire_sup."
   ]
  },
  {
   "cell_type": "code",
   "execution_count": 1,
   "id": "b3439d44",
   "metadata": {},
   "outputs": [
    {
     "name": "stdout",
     "output_type": "stream",
     "text": [
      "Enter your information please\n",
      "hello mohammed you earn this month 4462.0\n"
     ]
    }
   ],
   "source": [
    "def horaire_sup(name,salaire,nombre_heures):\n",
    "    if(nombre_heures <= 40):\n",
    "        result = salaire * nombre_heures\n",
    "    else:\n",
    "        result = (40 * salaire)+((nombre_heures-40) * (salaire * 1.5)) \n",
    "\n",
    "    print(f\"hello {name} you earn this month {result}\")\n",
    "\n",
    "\n",
    "print(\"Enter your information please\")\n",
    "\n",
    "name = input(\"name : \")\n",
    "\n",
    "salaire = int(input(\"salaire horaire  : \"))\n",
    "\n",
    "nombre_heures = int(input(\"nombre d'heures travaillées : \"))\n",
    "\n",
    "horaire_sup(name,salaire,nombre_heures)\n",
    "\n",
    "\n"
   ]
  },
  {
   "cell_type": "markdown",
   "id": "77631c7d",
   "metadata": {},
   "source": [
    "<H3><span style=\"font-weight: bold; color: #1a8bcdff;\">Challenge 2 : Fonction calculation() – somme et différence</span></H3>\n",
    "\n",
    "1. <span style=\"font-weight: bold; color: #e56922ff;\">Objectif</span> : </br>\n",
    "Apprendre à écrire une fonction avec plusieurs paramètres et plusieurs valeurs de retour.\n",
    "\n",
    "2. <span style=\"font-weight: bold; color: #e56922ff;\">Travail à faire</span>:</br>\n",
    "Écris une fonction calculation() qui prend deux arguments et calcule leur somme ainsi que leur différence. La fonction doit ensuite retourner les deux résultats dans une seule instruction return."
   ]
  },
  {
   "cell_type": "code",
   "execution_count": 2,
   "id": "323a8b4a",
   "metadata": {},
   "outputs": [
    {
     "data": {
      "text/plain": [
       "(4, 2)"
      ]
     },
     "execution_count": 2,
     "metadata": {},
     "output_type": "execute_result"
    }
   ],
   "source": [
    "def calculation(num1,num2):\n",
    "    somme = num1 + num2\n",
    "    deference = num1 - num2\n",
    "    return somme,deference\n",
    "\n",
    "calculation(3,1)"
   ]
  },
  {
   "cell_type": "markdown",
   "id": "c2081304",
   "metadata": {},
   "source": [
    "<H3><span style=\"font-weight: bold; color: #1a8bcdff;\">Challenge 3 : Mini-projets algorithmiques regroupés</span></H3>\n",
    "\n",
    "1. <span style=\"font-weight: bold; color: #e56922ff;\">Objectif</span> : </br>\n",
    "Développer plusieurs petites fonctions indépendantes, chacune ciblant une compétence précise\n",
    "\n",
    "2. <span style=\"font-weight: bold; color: #e56922ff;\">Travail à faire</span>:</br>\n",
    "- Demander à l’utilisateur de saisir un nombre entier n et afficher la factorielle de ce nombre (n!).\n",
    "- Demander à l’utilisateur un nombre entier m et afficher sa table de multiplication de 1 à 10.\n",
    "- Demander à l’utilisateur un nombre entier L et indiquer s’il s’agit d’un carré parfait.\n",
    "- Demander une chaîne de caractères à l’utilisateur, puis afficher chaque caractère un par un.\n",
    "- Demander une phrase à l’utilisateur et afficher le mot le plus long de cette phrase.\n",
    "- Demander une chaîne de caractères Ch et afficher le nombre d’occurrences de chaque caractère. Exemple : Pour Ch = “artificial intelligence developer” \n",
    "- Le programme doit afficher : Le caractère \"i\" figure 5 fois dans la chaîne Ch."
   ]
  },
  {
   "cell_type": "code",
   "execution_count": 56,
   "id": "a06adf5c",
   "metadata": {},
   "outputs": [
    {
     "name": "stdout",
     "output_type": "stream",
     "text": [
      "[['h', 2], ['i', 4], [' ', 3], ['t', 1], ['s', 4], ['a', 1], ['m', 1]]\n"
     ]
    }
   ],
   "source": [
    "import math\n",
    "\n",
    "# def fact(nombre):\n",
    "#     result =1\n",
    "#     for i in range(1,nombre+1):\n",
    "#         result *=i \n",
    "#     print(f\"factorielle de {nombre} est {result}\")   \n",
    "\n",
    "# n= int(input(\"enter the number that you want it s factorielle\"))\n",
    "# fact(n)\n",
    "\n",
    "# def multiplication_table(m):\n",
    "#     for i in range(1,11):\n",
    "#         print(f\"{m} * {i} = {m*i}\")\n",
    "# m= int(input(\"enter the number that you want it s multiplication table\"))\n",
    "# multiplication_table(m)\n",
    "\n",
    "# def perfect_sqrt(L):\n",
    "#     if(math.sqrt(L) == int(math.sqrt(L))):\n",
    "#         print(\"perfect sqrt\")\n",
    "#     else:\n",
    "#         print(\"not a perfect sqrt\")   \n",
    "\n",
    "# L= int(input(\"enter the number that you want to know if its a perfect squar\"))\n",
    "# perfect_sqrt(L)\n",
    "\n",
    "# def char_by_char(ch2):\n",
    "#     for i in range(0,len(ch2)):\n",
    "#         print(ch2[i])\n",
    "\n",
    "# ch2 = input(\"enter a phrase\")\n",
    "# char_by_char(ch2)\n",
    "\n",
    "# def split_remplacement(str , value):\n",
    "#     word =\"\"\n",
    "#     new_list=[]\n",
    "#     for i in range(0,len(str)):\n",
    "#         if(str[i] == value or i==len(str)-1):\n",
    "#             new_list.append(word)\n",
    "#             word=\"\"\n",
    "#         else:\n",
    "#             word += str[i]\n",
    "#     return new_list\n",
    "\n",
    "# def big_word(new_phr):\n",
    "#     word=new_phr[0]\n",
    "#     for i in range(1,len(new_phr)):\n",
    "#         if(len(new_phr[i]) >= len(word)):\n",
    "#             word = new_phr[i]\n",
    "            \n",
    "#     print(word)  \n",
    "\n",
    "# phr = input(\"enter a phrase\")\n",
    "# new_phr=[]\n",
    "# new_phr=split_remplacement(phr , \" \")\n",
    "# big_word(new_phr)\n",
    "\n",
    "\n",
    "def char_count(char , list):\n",
    "    count=0\n",
    "    for i in range(0,len(list)):\n",
    "        if(list[i] == char):\n",
    "            count+=1\n",
    "    return [char , count]          \n",
    "\n",
    "ch = input(\"enter a phrase\")\n",
    "new_list =[]\n",
    "for i in range(0,len(ch)):\n",
    "    if char_count(ch[i] ,ch) not in new_list:\n",
    "        new_list.append(char_count(ch[i] ,ch))\n",
    "\n",
    "print(new_list)\n",
    "\n",
    "\n",
    "\n",
    "\n",
    "\n",
    "\n",
    "\n",
    "\n",
    "    \n",
    "\n",
    "    \n",
    "\n"
   ]
  }
 ],
 "metadata": {
  "kernelspec": {
   "display_name": "Python 3",
   "language": "python",
   "name": "python3"
  },
  "language_info": {
   "codemirror_mode": {
    "name": "ipython",
    "version": 3
   },
   "file_extension": ".py",
   "mimetype": "text/x-python",
   "name": "python",
   "nbconvert_exporter": "python",
   "pygments_lexer": "ipython3",
   "version": "3.13.7"
  }
 },
 "nbformat": 4,
 "nbformat_minor": 5
}
