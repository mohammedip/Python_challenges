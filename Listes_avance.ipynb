{
 "cells": [
  {
   "cell_type": "markdown",
   "id": "4b14e968",
   "metadata": {},
   "source": [
    "\n",
    "<center>\n",
    "<H1><span style=\"text-align: center; font-weight: bold; color: #746bb3ff;\">Challenges avancés sur les listes</span></H1>\n",
    "</center>"
   ]
  },
  {
   "cell_type": "markdown",
   "id": "6e737eb3",
   "metadata": {},
   "source": [
    "<H3><span style=\"font-weight: bold; color: #1a8bcdff;\">Challenge 1 :  Filtrage avancé avec fonctions</span></H3>\n",
    "\n",
    "1. <span style=\"font-weight: bold; color: #e56922ff;\">Objectif</span> : </br>\n",
    "Créer une fonction qui filtre une liste selon des critères dynamiques passés en paramètre.\n",
    "\n",
    "2. <span style=\"font-weight: bold; color: #e56922ff;\">Travail à faire</span>:</br>\n",
    "\n",
    "* Écrivez une fonction filtrer_liste qui prend en entrée une liste de nombres et une fonction de critère (fonction lambda ou définie). La fonction doit retourner une nouvelle liste contenant uniquement les éléments qui satisfont le critère. \n",
    "* Testez la fonction avec au moins deux critères différents (par exemple, \"plus grand que 10\" et \"multiple de 3\").\n",
    "* Exemple d'entrée :<code>[1, 12, 9, 15, 20, 3]</code>  avec critère <code>lambda x: x > 10</code> → Résultat : <code>[12, 15, 20]</code>.\n",
    "3. Fonctions à utiliser :\n",
    "\n",
    "* <code>filter()</code> : Pour appliquer le critère de filtrage sur la liste.\n",
    "* <code>list()</code> : Pour convertir le résultat de filter en liste."
   ]
  },
  {
   "cell_type": "code",
   "execution_count": 15,
   "id": "515f5469",
   "metadata": {},
   "outputs": [
    {
     "name": "stdout",
     "output_type": "stream",
     "text": [
      "[1, 3]\n",
      "[12, 20]\n"
     ]
    }
   ],
   "source": [
    "func1 = lambda x: x<=3\n",
    "func2 = lambda x: x%2==0\n",
    "new_list = [1, 12, 9, 15, 20, 3]\n",
    "\n",
    "def filtrer_list(func , my_list):\n",
    "    result_filtered = filter(func,my_list)\n",
    "    return list(result_filtered)\n",
    "\n",
    "print(filtrer_list(func1 , new_list))\n",
    "print(filtrer_list(func2 , new_list))\n",
    "\n",
    "\n"
   ]
  },
  {
   "cell_type": "markdown",
   "id": "cb83ba8f",
   "metadata": {},
   "source": [
    "<H3><span style=\"font-weight: bold; color: #1a8bcdff;\">Challenge 2 : Transformation Avancée de Données</span></H3>\n",
    "\n",
    "1. <span style=\"font-weight: bold; color: #e56922ff;\">Objectif</span> : </br>\n",
    " Manipuler et transformer une liste de nombres en combinant plusieurs opérations fonctionnelles.\n",
    "\n",
    "\n",
    "2. <span style=\"font-weight: bold; color: #e56922ff;\">Travail à faire</span>:</br>\n",
    "\n",
    "* Créez une liste de nombres entiers (positifs et négatifs).\n",
    "\n",
    "* Utilisez filter() pour garder uniquement les nombres positifs.\n",
    "\n",
    "* Utilisez map() pour calculer le cube de chaque nombre filtré.\n",
    "\n",
    "* Utilisez sorted() pour trier la liste des cubes en ordre décroissant.\n",
    "\n",
    "* Affichez la liste finale des valeurs transformées."
   ]
  },
  {
   "cell_type": "code",
   "execution_count": 24,
   "id": "68709f89",
   "metadata": {},
   "outputs": [
    {
     "name": "stdout",
     "output_type": "stream",
     "text": [
      "[3375, 1728, 27, 1]\n"
     ]
    }
   ],
   "source": [
    "new_list = [1, 12, -9, 15, -20, 3]\n",
    "\n",
    "positive_numbers_filtered = filter(lambda x:x>0,new_list )\n",
    "positive_numbers =list(positive_numbers_filtered)\n",
    "cube_of_positive_numbers = map(lambda x:x**3,positive_numbers )\n",
    "sorted_positive_numbers = sorted(cube_of_positive_numbers, reverse=True)\n",
    "\n",
    "print(sorted_positive_numbers)"
   ]
  },
  {
   "cell_type": "markdown",
   "id": "9348938f",
   "metadata": {},
   "source": [
    "<H3><span style=\"font-weight: bold; color: #1a8bcdff;\">Challenge 3 : Tri personnalisé avec clé dynamique\n",
    "</span></H3>\n",
    "\n",
    "1. <span style=\"font-weight: bold; color: #e56922ff;\">Objectif</span> : </br>\n",
    "Trier une liste d'objets complexes en utilisant une fonction de clé personnalisée.\n",
    "\n",
    "2. <span style=\"font-weight: bold; color: #e56922ff;\">Travail à faire</span>:</br>\n",
    "\n",
    "* Créez une liste de dictionnaires représentant des étudiants avec les clés nom (str) et note (int). \n",
    "* Écrivez une fonction trier_etudiants qui prend la liste et une fonction de clé (par exemple, lambda x: x['note'] pour trier par note). La fonction doit retourner la liste triée, avec une option pour tri croissant ou décroissant (via un paramètre reverse).  \n",
    "* Testez avec une liste d'au moins 5 étudiants et deux critères de tri.\n",
    "* Exemple d'entrée : <code>[{'nom': 'Alice', 'note': 85}, {'nom': 'Bob', 'note': 92}]</code> trié par note décroissante → Résultat : <code>[{'nom': 'Bob', 'note': 92}, {'nom': 'Alice', 'note': 85}]</code>.\n",
    "3. Fonctions à utiliser :\n",
    "* <code>sorted()</code> : Pour trier la liste avec une clé personnalisée.\n",
    "* <code>lambda</code> : Pour définir les fonctions de clé dynamiques."
   ]
  },
  {
   "cell_type": "code",
   "execution_count": 41,
   "id": "341dbff4",
   "metadata": {},
   "outputs": [
    {
     "name": "stdout",
     "output_type": "stream",
     "text": [
      "[{'nom': 'mohammed', 'note': 99}, {'nom': 'Bob', 'note': 92}, {'nom': 'reida', 'note': 89}, {'nom': 'Alice', 'note': 85}, {'nom': 'khawla', 'note': 82}, {'nom': 'khawla', 'note': 72}]\n"
     ]
    }
   ],
   "source": [
    "dicts_list=[{'nom': 'Alice', 'note': 85}, {'nom': 'Bob', 'note': 92},{'nom': 'mohammed', 'note': 99}, {'nom': 'khawla', 'note': 72},{'nom': 'reida', 'note': 89}, {'nom': 'khawla', 'note': 82}]\n",
    "func = lambda x:x['note']\n",
    "def trier_etudiant(my_list,func ,tri):\n",
    "    sorted_list = sorted( my_list,key=func,reverse=tri)\n",
    "\n",
    "    print(sorted_list)\n",
    "\n",
    "trier_etudiant(dicts_list,func,True)\n",
    "\n",
    "\n"
   ]
  },
  {
   "cell_type": "markdown",
   "id": "12a40e48",
   "metadata": {},
   "source": [
    "<H3><span style=\"font-weight: bold; color: #1a8bcdff;\">Challenge 4 : Fusion intelligente de listes</span></H3>\n",
    "\n",
    "1. <span style=\"font-weight: bold; color: #e56922ff;\">Objectif</span> : </br>\n",
    "Fusionner deux listes en éliminant les doublons et en respectant un ordre spécifique.\n",
    "2. <span style=\"font-weight: bold; color: #e56922ff;\">Travail à faire</span>:</br>\n",
    "\n",
    "* Écrivez une fonction fusionner_listes qui prend deux listes de nombres et une fonction de tri (par exemple, lambda x: x pour tri croissant). \n",
    "* La fonction doit fusionner les deux listes, supprimer les doublons, et retourner une liste triée selon la fonction de tri fournie. \n",
    "*  Testez avec deux listes contenant des doublons et deux fonctions de tri différentes.\n",
    "* Exemple d'entrée : <code>liste1 = [1, 3, 5, 3]</code>, <code>liste2 = [2, 3, 4, 5]</code>, tri croissant → Résultat : <code>[1, 2, 3, 4, 5]</code>.\n",
    "3. Fonctions à utiliser :\n",
    "\n",
    "* extend() : Pour ajouter les éléments d'une liste à une autre.\n",
    "* set() : Pour supprimer les doublons.\n",
    "* sorted() : Pour trier la liste fusionnée."
   ]
  },
  {
   "cell_type": "code",
   "execution_count": 1,
   "id": "a8fb6e19",
   "metadata": {},
   "outputs": [
    {
     "name": "stdout",
     "output_type": "stream",
     "text": [
      "[1, 2, 3, 4, 5]\n"
     ]
    }
   ],
   "source": [
    "def fusionner_list(num_list1 , num_list2 , func):\n",
    "    num_list1.extend(num_list2)\n",
    "    new_list = set(num_list1)\n",
    "    sorted_list = sorted(new_list ,key=func)\n",
    "    return sorted_list\n",
    "\n",
    "liste1 = [1, 3, 5, 3]\n",
    "liste2 = [2, 3, 4, 5]\n",
    "new_list =fusionner_list(liste1,liste2 , lambda x:x)\n",
    "print(new_list)\n"
   ]
  },
  {
   "cell_type": "markdown",
   "id": "dd1e329d",
   "metadata": {},
   "source": [
    "<H3><span style=\"font-weight: bold; color: #1a8bcdff;\">Challenge 5 : Partitionnement de liste</span></H3>\n",
    "\n",
    "1. <span style=\"font-weight: bold; color: #e56922ff;\">Objectif</span> : </br>\n",
    "Diviser une liste en sous-listes selon un critère dynamique.\n",
    "2. <span style=\"font-weight: bold; color: #e56922ff;\">Travail à faire</span>:</br>\n",
    "\n",
    "* Écrivez une fonction partitionner_liste qui prend une liste et une fonction de critère (par exemple, lambda x: x % 2 == 0 pour séparer pairs et impairs). \n",
    "* La fonction doit retourner un tuple contenant deux listes : une pour les éléments qui satisfont le critère et une pour ceux qui ne le satisfont pas. \n",
    "* Testez avec deux critères différents (par exemple, \"pair/impair\" et \"positif/négatif\").\n",
    "* Exemple d'entrée : <code>[1, 2, 3, 4, 5, 6]</code> avec critère <code>ambda x: x % 2 == 0</code>l → Résultat : <code>([2, 4, 6], [1, 3, 5])</code>.\n",
    "3. Fonctions à utiliser :\n",
    "\n",
    "* <code>filter()</code> : Pour séparer les éléments selon le critère.\n",
    "* <code>list()</code> : Pour convertir les résultats de filter en listes.\n",
    "* <code>append()</code> : Pour construire les deux listes si vous utilisez une boucle."
   ]
  },
  {
   "cell_type": "code",
   "execution_count": 7,
   "id": "843cd03c",
   "metadata": {},
   "outputs": [
    {
     "name": "stdout",
     "output_type": "stream",
     "text": [
      "([2, 4, 6], [1, 3, 5])\n"
     ]
    }
   ],
   "source": [
    "def partitionner_liste(liste , func):\n",
    "    impairs_element =[]\n",
    "    new_tuple =()\n",
    "    pairs_element = filter(func , liste)\n",
    "    pairs_element_list = list(pairs_element)\n",
    "    for i in liste:\n",
    "        if i not in pairs_element_list:\n",
    "            impairs_element.append(i)\n",
    "\n",
    "    new_tuple= (pairs_element_list ,impairs_element )  \n",
    "\n",
    "    return new_tuple\n",
    "\n",
    "new_list=[1, 2, 3, 4, 5, 6]\n",
    "print(partitionner_liste(new_list , lambda x: x % 2 == 0 ))   \n"
   ]
  },
  {
   "cell_type": "markdown",
   "id": "24d606ac",
   "metadata": {},
   "source": [
    "<H3><span style=\"font-weight: bold; color: #1a8bcdff;\">Challenge 6 : Réduction avec accumulation personnalisée</span></H3>\n",
    "\n",
    "1. <span style=\"font-weight: bold; color: #e56922ff;\">Objectif</span> : </br>\n",
    "Appliquer une opération personnalisée pour réduire une liste à une seule valeur.\n",
    "\n",
    "2. <span style=\"font-weight: bold; color: #e56922ff;\">Travail à faire</span>:</br>\n",
    "\n",
    "* Écrivez une fonction reduire_liste qui prend une liste de nombres, une fonction d'opération (par exemple, lambda x, y: x + y pour une somme), et une valeur initiale. \n",
    "* La fonction doit appliquer l'opération sur les éléments pour produire une seule valeur, sans utiliser functools.reduce. \n",
    "* Testez avec deux opérations différentes (par exemple, somme et produit).\n",
    "* Exemple d'entrée : <code>[1, 2, 3, 4]</code> avec <code>lambda x, y: x + y</code> et valeur initiale 0 → Résultat : 10.\n",
    "3. Fonctions à utiliser :\n",
    "\n",
    "* <code>lambda</code> : Pour définir l'opération personnalisée.\n",
    "* Boucle avec accumulation (pas de fonction intégrée comme reduce, car interdit dans l'énoncé)."
   ]
  },
  {
   "cell_type": "code",
   "execution_count": 16,
   "id": "9c0d3355",
   "metadata": {},
   "outputs": [
    {
     "name": "stdout",
     "output_type": "stream",
     "text": [
      "10\n",
      "24\n"
     ]
    }
   ],
   "source": [
    "def reduire_list(liste , func , v):\n",
    "    result =v\n",
    "    for i in liste:  \n",
    "        result = func(result ,i)\n",
    "    return result\n",
    "\n",
    "new_list = [1, 2, 3, 4]\n",
    "\n",
    "print(reduire_list(new_list , lambda x, y: x + y , 0))\n",
    "print(reduire_list(new_list , lambda x, y: x * y , 1))"
   ]
  },
  {
   "cell_type": "markdown",
   "id": "7d7b7f8a",
   "metadata": {},
   "source": [
    "<H3><span style=\"font-weight: bold; color: #1a8bcdff;\">Challenge 7 : Transformation imbriquée</span></H3>\n",
    "\n",
    "1. <span style=\"font-weight: bold; color: #e56922ff;\">Objectif</span> : </br>\n",
    "Transformer une liste imbriquée avec une fonction récursive.\n",
    "\n",
    "2. <span style=\"font-weight: bold; color: #e56922ff;\">Travail à faire</span>:</br>\n",
    "\n",
    "* Écrivez une fonction transformer_imbriquee qui prend une liste potentiellement imbriquée (contenant des nombres ou des listes) et une fonction de transformation (par exemple, lambda x: x * 2 pour doubler chaque nombre). \n",
    "* La fonction doit appliquer la transformation à chaque nombre, en préservant la structure imbriquée. \n",
    "* Testez avec une liste contenant au moins deux niveaux d'imbrication et deux fonctions de transformation.\n",
    "* Exemple d'entrée : <code>[1, [2, 3, [4, 5]], 6]</code> avec <code>lambda x: x * 2 </code>→ Résultat : <code>[2, [4, 6, [8, 10]], 12]</code>.\n",
    "3. Fonctions à utiliser :\n",
    "\n",
    "<code>map()</code> : Pour appliquer la transformation aux éléments non imbriqués.\n",
    "<code>isinstance()</code> : Pour vérifier si un élément est une liste (pour la récursivité).\n",
    "<code>list()</code> : Pour convertir les résultats de map en listes."
   ]
  },
  {
   "cell_type": "code",
   "execution_count": 29,
   "id": "0d08089b",
   "metadata": {},
   "outputs": [
    {
     "name": "stdout",
     "output_type": "stream",
     "text": [
      "[2, [4, 6, [8, 10]], 12]\n"
     ]
    }
   ],
   "source": [
    "def transformer_imbriquee(liste , func ):\n",
    "\n",
    "    new_list = list(map( lambda x:transformer_imbriquee(x,func) if isinstance(x,list) else func(x), liste))\n",
    "    return new_list\n",
    "\n",
    "\n",
    "new_list=[1, [2, 3, [4, 5]], 6]\n",
    "print(transformer_imbriquee(new_list,lambda x: x * 2))\n",
    "     "
   ]
  }
 ],
 "metadata": {
  "kernelspec": {
   "display_name": "Python 3",
   "language": "python",
   "name": "python3"
  },
  "language_info": {
   "codemirror_mode": {
    "name": "ipython",
    "version": 3
   },
   "file_extension": ".py",
   "mimetype": "text/x-python",
   "name": "python",
   "nbconvert_exporter": "python",
   "pygments_lexer": "ipython3",
   "version": "3.13.7"
  }
 },
 "nbformat": 4,
 "nbformat_minor": 5
}
